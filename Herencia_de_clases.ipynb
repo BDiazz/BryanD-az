{
 "cells": [
  {
   "cell_type": "code",
   "execution_count": null,
   "id": "24a27fd3-a0a2-49ff-b62b-be0ea960c667",
   "metadata": {},
   "outputs": [],
   "source": [
    "class Persona:\n",
    "    def __init__(self, name, age):\n",
    "        self.__name = name\n",
    "        self.__age = age\n",
    "\n",
    "    def get_name(self):\n",
    "        return self.__name\n",
    "\n",
    "    def get_age(self):\n",
    "        return self.__age\n",
    "\n",
    "    def __str__(self):\n",
    "        return f\"{self.__class__.__name__}: {self.__name}, {self.__age} años\"\n",
    "\n",
    "\n",
    "class Director(Persona):\n",
    "    def __init__(self, name, age, department):\n",
    "        super().__init__(name, age)\n",
    "        self.department = department\n",
    "\n",
    "    def get_department(self):\n",
    "        return self.department\n",
    "\n",
    "    def conduct_meeting(self):\n",
    "        return f\"{self.get_name()} está dirigiendo una reunión del departamento de {self.department}.\"\n",
    "\n",
    "    def __str__(self):\n",
    "        return f\"{super().__str__()} (Director del departamento de {self.department})\"\n",
    "\n",
    "\n",
    "class Empleado(Persona):\n",
    "    def __init__(self, name, age, position):\n",
    "        super().__init__(name, age)\n",
    "        self.position = position\n",
    "\n",
    "    def get_position(self):\n",
    "        return self.position\n",
    "\n",
    "    def perform_task(self, task):\n",
    "        return f\"{self.get_name()} está realizando la tarea: {task}\"\n",
    "\n",
    "    def __str__(self):\n",
    "        return f\"{super().__str__()} (Empleado - {self.position})\"\n",
    "\n",
    "\n",
    "director = Director(\"Carlos\", 50, \"Finanzas\")\n",
    "empleado = Empleado(\"Ana\", 30, \"Asistente Administrativa\")\n",
    "\n",
    "print(director)\n",
    "print(director.conduct_meeting())\n",
    "print()\n",
    "print(empleado)\n",
    "print(empleado.perform_task(\"preparación de informes\"))\n"
   ]
  }
 ],
 "metadata": {
  "kernelspec": {
   "display_name": "Python 3 (ipykernel)",
   "language": "python",
   "name": "python3"
  },
  "language_info": {
   "codemirror_mode": {
    "name": "ipython",
    "version": 3
   },
   "file_extension": ".py",
   "mimetype": "text/x-python",
   "name": "python",
   "nbconvert_exporter": "python",
   "pygments_lexer": "ipython3",
   "version": "3.11.5"
  }
 },
 "nbformat": 4,
 "nbformat_minor": 5
}
