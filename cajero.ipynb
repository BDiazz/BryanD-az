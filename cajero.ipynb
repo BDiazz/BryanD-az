{
 "cells": [
  {
   "cell_type": "code",
   "execution_count": 7,
   "metadata": {},
   "outputs": [
    {
     "name": "stdout",
     "output_type": "stream",
     "text": [
      "\n",
      "Edo. cuenta: 2100.0\n",
      "\n",
      "Edo. cuenta: 1100.0\n",
      "\n",
      "Edo. cuenta: 1100.0\n",
      "\n",
      "Usuario o contraseña incorrecta!\n"
     ]
    }
   ],
   "source": [
    "#Estudiante: Bryan Alexander Díaz Vásquez\n",
    "id =1234\n",
    "clave = 345345\n",
    "cuenta = 2000\n",
    "opc = 0\n",
    "\n",
    "def depositar():\n",
    "    global cuenta\n",
    "    abono = float(input(\"¿Cuanto desea depositar?: \"))\n",
    "    cuenta += abono\n",
    "\n",
    "def retiro():\n",
    "    global cuenta\n",
    "    retirar = float(input(\"¿Cuanto desea retirar?: \"))\n",
    "    cuenta -= retirar\n",
    "\n",
    "try:\n",
    "    id_us = int(input('Introduzca su identificación: '))\n",
    "    clave_us = int(input('Introduzca su clave: '))\n",
    "    if(id_us == id and clave_us == clave):\n",
    "        while opc != 4:\n",
    "            opc = int(input('''\n",
    "            Seleccione la operación:\n",
    "            1. Edo. de cuenta\n",
    "            2. Depósito\n",
    "            3. Retiro\n",
    "            4. Salir\n",
    "            '''))\n",
    "\n",
    "            if opc == 1:\n",
    "                print(f'\\nEdo. cuenta: {cuenta}')\n",
    "            elif opc == 2:\n",
    "                depositar()\n",
    "            elif opc == 3:\n",
    "                retiro()\n",
    "            elif opc == 4:\n",
    "                break\n",
    "            else: \n",
    "                print(\"\\nOpc invalida!\")\n",
    "    \n",
    "except:\n",
    "    print(\"\\n Usuario o contraseña incorrecta!\")"
   ]
  }
 ],
 "metadata": {
  "kernelspec": {
   "display_name": "Python 3",
   "language": "python",
   "name": "python3"
  },
  "language_info": {
   "codemirror_mode": {
    "name": "ipython",
    "version": 3
   },
   "file_extension": ".py",
   "mimetype": "text/x-python",
   "name": "python",
   "nbconvert_exporter": "python",
   "pygments_lexer": "ipython3",
   "version": "3.12.2"
  }
 },
 "nbformat": 4,
 "nbformat_minor": 2
}
