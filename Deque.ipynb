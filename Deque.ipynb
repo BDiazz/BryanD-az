{
 "cells": [
  {
   "cell_type": "code",
   "execution_count": 3,
   "id": "bfffeada-028a-40ed-b4bd-980259d1f5c9",
   "metadata": {},
   "outputs": [
    {
     "name": "stdout",
     "output_type": "stream",
     "text": [
      "[2, 5]\n",
      "[2, 5, 12]\n",
      "[5, 12]\n",
      "[5]\n"
     ]
    }
   ],
   "source": [
    "#Bryan Alexander Díaz Vásquez\n",
    "#El Salvador\n",
    "\n",
    "class Deque:\n",
    "    def __init__(self):\n",
    "        self.deque=[]\n",
    "    def add_first(self, item):\n",
    "        self.deque.insert(0, item)\n",
    "    def remove_first(self):\n",
    "        return None if len(self.deque) == 0 else self.deque.pop(0)\n",
    "    def add_last(self, item):\n",
    "        self.deque.append(item)\n",
    "    def remove_last(self):\n",
    "        return None if len(self.deque) == 0 else self.deque.pop()\n",
    "    def __str__(self):\n",
    "        return str(self.deque)\n",
    "\n",
    "#Pruebas\n",
    "p1 = Deque()\n",
    "\n",
    "p1.add_first(5)\n",
    "p1.add_first(2)\n",
    "print(p1)\n",
    "p1.add_last(12)\n",
    "print(p1)\n",
    "p1.remove_first()\n",
    "print(p1)\n",
    "p1.remove_last()\n",
    "print(p1)"
   ]
  },
  {
   "cell_type": "code",
   "execution_count": null,
   "id": "4bfb4355-16e1-4fa7-801f-22e6993b999b",
   "metadata": {},
   "outputs": [],
   "source": []
  }
 ],
 "metadata": {
  "kernelspec": {
   "display_name": "Python 3 (ipykernel)",
   "language": "python",
   "name": "python3"
  },
  "language_info": {
   "codemirror_mode": {
    "name": "ipython",
    "version": 3
   },
   "file_extension": ".py",
   "mimetype": "text/x-python",
   "name": "python",
   "nbconvert_exporter": "python",
   "pygments_lexer": "ipython3",
   "version": "3.11.5"
  }
 },
 "nbformat": 4,
 "nbformat_minor": 5
}
